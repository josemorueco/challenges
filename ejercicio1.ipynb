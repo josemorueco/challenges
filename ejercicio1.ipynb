{
 "cells": [
  {
   "cell_type": "code",
   "execution_count": 4,
   "id": "b61702cb",
   "metadata": {},
   "outputs": [],
   "source": [
    "def balanced_num(number):\n",
    "    nums = [int(n) for n in str(number)]\n",
    "    if len(nums) <= 2:\n",
    "        return \"Balanced\"\n",
    "    elif len(nums) % 2 == 0:\n",
    "        if sum(nums[:len(nums)//2-1]) == sum(nums[len(nums)//2 + 1:]):\n",
    "            return \"Balanced\"\n",
    "        else:\n",
    "            return \"Not Balanced\"\n",
    "    else:\n",
    "        if sum(nums[:len(nums)//2]) == sum(nums[len(nums)//2 + 1:]):\n",
    "            return \"Balanced\"\n",
    "        else:\n",
    "            return \"Not Balanced\"\n",
    "pass"
   ]
  },
  {
   "cell_type": "code",
   "execution_count": 10,
   "id": "516e83cc",
   "metadata": {},
   "outputs": [],
   "source": [
    "def balanced_num(number):\n",
    "    nums = [int(n) for n in str(number)]\n",
    "    if len(nums) <= 2:\n",
    "        return \"Balanced\"\n",
    "    elif len(nums) % 2 == 0:\n",
    "        if sum(nums[:len(nums)//2-1]) == sum(nums[len(nums)//2 + 1:]):\n",
    "            return \"Balanced\"\n",
    "        else:\n",
    "            return \"Not Balanced\"\n",
    "    else:\n",
    "        if sum(nums[:len(nums)//2]) == sum(nums[len(nums)//2 + 1:]):\n",
    "            return \"Balanced\"\n",
    "        else:\n",
    "            return \"Not Balanced\"\n"
   ]
  },
  {
   "cell_type": "code",
   "execution_count": 11,
   "id": "aa205e01",
   "metadata": {},
   "outputs": [
    {
     "data": {
      "text/plain": [
       "'Not Balanced'"
      ]
     },
     "execution_count": 11,
     "metadata": {},
     "output_type": "execute_result"
    }
   ],
   "source": [
    "balanced_num(12345)"
   ]
  },
  {
   "cell_type": "code",
   "execution_count": 13,
   "id": "b5cafbf5",
   "metadata": {},
   "outputs": [
    {
     "name": "stdout",
     "output_type": "stream",
     "text": [
      "Not Balanced\n"
     ]
    }
   ],
   "source": [
    "# Python3 program to check\n",
    "# if a number is\n",
    "# Balanced or not\n",
    "\n",
    "# Function to check whether N is\n",
    "# Balanced Number or not\n",
    "def BalancedNumber(s):\n",
    "\n",
    "\tLeftsum = 0\n",
    "\tRightsum = 0\n",
    "\n",
    "\t# Calculating the Leftsum\n",
    "\t# and rightSum simultaneously\n",
    "\tfor i in range(0, int(len(s) / 2)):\n",
    "\n",
    "\t\t# Typecasting each character\n",
    "\t\t# to integer and adding the\n",
    "\t\t# digit to respective sums\n",
    "\t\tLeftsum = Leftsum + int(s[i])\n",
    "\t\tRightsum = (Rightsum +\n",
    "\t\t\t\t\tint(s[len(s) - 1 - i]))\n",
    "\n",
    "\tif (Leftsum == Rightsum):\n",
    "\t\tprint(\"Balanced\", end = '\\n')\n",
    "\telse:\n",
    "\t\tprint(\"Not Balanced\", end = '\\n')\n",
    "\n",
    "# Driver Code\n",
    "s = \"76533\"\n",
    "\n",
    "# Function call\n",
    "BalancedNumber(s)\n",
    "\n",
    "# This code is contributed by PratikBasu\n",
    "\n",
    "\n"
   ]
  },
  {
   "cell_type": "code",
   "execution_count": null,
   "id": "4f1b4e16",
   "metadata": {},
   "outputs": [],
   "source": []
  },
  {
   "cell_type": "code",
   "execution_count": null,
   "id": "221b4ef4",
   "metadata": {},
   "outputs": [],
   "source": [
    "def balanced_num (number):\n",
    "    pass"
   ]
  },
  {
   "cell_type": "code",
   "execution_count": 3,
   "id": "04ef4c1b",
   "metadata": {},
   "outputs": [
    {
     "data": {
      "text/plain": [
       "2456789998"
      ]
     },
     "execution_count": 3,
     "metadata": {},
     "output_type": "execute_result"
    }
   ],
   "source": [
    "number = 2456789998\n",
    "number"
   ]
  },
  {
   "cell_type": "code",
   "execution_count": 4,
   "id": "54497a10",
   "metadata": {},
   "outputs": [
    {
     "data": {
      "text/plain": [
       "int"
      ]
     },
     "execution_count": 4,
     "metadata": {},
     "output_type": "execute_result"
    }
   ],
   "source": [
    "type(number)"
   ]
  },
  {
   "cell_type": "code",
   "execution_count": 5,
   "id": "fb1a492f",
   "metadata": {},
   "outputs": [
    {
     "data": {
      "text/plain": [
       "10"
      ]
     },
     "execution_count": 5,
     "metadata": {},
     "output_type": "execute_result"
    }
   ],
   "source": [
    "len(str(number))"
   ]
  },
  {
   "cell_type": "code",
   "execution_count": 6,
   "id": "6e3ab1f3",
   "metadata": {},
   "outputs": [],
   "source": [
    "string_num = str(number)"
   ]
  },
  {
   "cell_type": "code",
   "execution_count": 7,
   "id": "a057bab6",
   "metadata": {},
   "outputs": [
    {
     "data": {
      "text/plain": [
       "['2', '4', '5', '6', '7', '8', '9', '9', '9', '8']"
      ]
     },
     "execution_count": 7,
     "metadata": {},
     "output_type": "execute_result"
    }
   ],
   "source": [
    "lista = []\n",
    "for i in str(number):\n",
    "    lista.append(i)\n",
    "\n",
    "lista"
   ]
  },
  {
   "cell_type": "code",
   "execution_count": 10,
   "id": "1a69f237",
   "metadata": {},
   "outputs": [
    {
     "data": {
      "text/plain": [
       "['2', '4', '5', '6']"
      ]
     },
     "execution_count": 10,
     "metadata": {},
     "output_type": "execute_result"
    }
   ],
   "source": [
    "lista_izq = lista [:4]\n",
    "lista_izq"
   ]
  },
  {
   "cell_type": "code",
   "execution_count": 11,
   "id": "ca6d5191",
   "metadata": {},
   "outputs": [
    {
     "data": {
      "text/plain": [
       "'2456'"
      ]
     },
     "execution_count": 11,
     "metadata": {},
     "output_type": "execute_result"
    }
   ],
   "source": [
    "string_izq = string_num[:4]\n",
    "string_izq"
   ]
  },
  {
   "cell_type": "code",
   "execution_count": 12,
   "id": "97ba6619",
   "metadata": {},
   "outputs": [
    {
     "data": {
      "text/plain": [
       "4"
      ]
     },
     "execution_count": 12,
     "metadata": {},
     "output_type": "execute_result"
    }
   ],
   "source": [
    "len_str = len(string_num)/2\n",
    "len_str = len_str - 1\n",
    "len_str = int (len_str)\n",
    "len_str"
   ]
  },
  {
   "cell_type": "code",
   "execution_count": 13,
   "id": "47becf0f",
   "metadata": {},
   "outputs": [
    {
     "data": {
      "text/plain": [
       "'2456'"
      ]
     },
     "execution_count": 13,
     "metadata": {},
     "output_type": "execute_result"
    }
   ],
   "source": [
    "string_izq = string_num[:len_str]\n",
    "string_izq"
   ]
  },
  {
   "cell_type": "code",
   "execution_count": 14,
   "id": "59abb971",
   "metadata": {},
   "outputs": [
    {
     "data": {
      "text/plain": [
       "'9998'"
      ]
     },
     "execution_count": 14,
     "metadata": {},
     "output_type": "execute_result"
    }
   ],
   "source": [
    "string_dcha = string_num[len_str + 2:]\n",
    "string_dcha\n"
   ]
  },
  {
   "cell_type": "code",
   "execution_count": 15,
   "id": "9324d694",
   "metadata": {},
   "outputs": [
    {
     "data": {
      "text/plain": [
       "4"
      ]
     },
     "execution_count": 15,
     "metadata": {},
     "output_type": "execute_result"
    }
   ],
   "source": [
    "len(string_dcha)"
   ]
  },
  {
   "cell_type": "code",
   "execution_count": null,
   "id": "382692e6",
   "metadata": {},
   "outputs": [],
   "source": []
  }
 ],
 "metadata": {
  "kernelspec": {
   "display_name": "Python 3",
   "language": "python",
   "name": "python3"
  },
  "language_info": {
   "codemirror_mode": {
    "name": "ipython",
    "version": 3
   },
   "file_extension": ".py",
   "mimetype": "text/x-python",
   "name": "python",
   "nbconvert_exporter": "python",
   "pygments_lexer": "ipython3",
   "version": "3.8.8"
  }
 },
 "nbformat": 4,
 "nbformat_minor": 5
}
